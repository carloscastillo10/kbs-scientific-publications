{
  "nbformat": 4,
  "nbformat_minor": 0,
  "metadata": {
    "colab": {
      "name": "linked-articles-triples.ipynb",
      "provenance": [],
      "authorship_tag": "ABX9TyNJ96wNofLobwpv+s7PfwJv",
      "include_colab_link": true
    },
    "kernelspec": {
      "name": "python3",
      "display_name": "Python 3"
    },
    "language_info": {
      "name": "python"
    }
  },
  "cells": [
    {
      "cell_type": "markdown",
      "metadata": {
        "id": "view-in-github",
        "colab_type": "text"
      },
      "source": [
        "<a href=\"https://colab.research.google.com/github/carloscastillo10/kbs-scientific-publications/blob/development/notebooks/linked-articles-triples.ipynb\" target=\"_parent\"><img src=\"https://colab.research.google.com/assets/colab-badge.svg\" alt=\"Open In Colab\"/></a>"
      ]
    },
    {
      "cell_type": "markdown",
      "metadata": {
        "id": "P8YYsAy91Uw0"
      },
      "source": [
        "#### Import prefixes of models that I will reuse"
      ]
    },
    {
      "cell_type": "code",
      "execution_count": 65,
      "metadata": {
        "id": "lNFqCuzy1Z2b"
      },
      "outputs": [],
      "source": [
        "# pip install rdflib\n",
        "from rdflib import URIRef, Namespace\n",
        "from rdflib.namespace import RDF as rdf, OWL as owl, DCTERMS as dct\n",
        "\n",
        "schema = Namespace('http://schema.org/')\n",
        "bibo = Namespace('http://purl.org/ontology/bibo/')\n",
        "dbo = Namespace('http://dbpedia.org/ontology/')\n",
        "dbr = 'http://dbpedia.org/resource/'\n",
        "dbc = 'http://dbpedia.org/resource/Category:'"
      ]
    },
    {
      "cell_type": "markdown",
      "source": [
        "### Get candidates with Spotligth"
      ],
      "metadata": {
        "id": "y6HN9MQd2b2R"
      }
    },
    {
      "cell_type": "markdown",
      "metadata": {
        "id": "Bs6ZuP0p3SvT"
      },
      "source": [
        "#### Candidate method\n",
        "Returns a list of all matching candidate entities rather than only the top candidate."
      ]
    },
    {
      "cell_type": "code",
      "execution_count": 66,
      "metadata": {
        "id": "9zuBEYlC3gzu"
      },
      "outputs": [],
      "source": [
        "# pip install pyspotlight \n",
        "import spotlight "
      ]
    },
    {
      "cell_type": "code",
      "execution_count": 67,
      "metadata": {
        "id": "AH8BIamJ-XgT"
      },
      "outputs": [],
      "source": [
        "def set_candidate(candidate_name, resource):\n",
        "  return {\n",
        "    'name': candidate_name,\n",
        "    'label': resource['label'],\n",
        "    'uri': dbr + resource['uri'],\n",
        "    'contextualScore': resource['contextualScore'],\n",
        "    'finalScore': resource['finalScore'],\n",
        "    'categories': resource['types']\n",
        "  }"
      ]
    },
    {
      "cell_type": "code",
      "execution_count": 68,
      "metadata": {
        "id": "AMzAABcl3VOe"
      },
      "outputs": [],
      "source": [
        "def get_candidates(text, filters, confidence=0.4, support=20):\n",
        "  try:\n",
        "    spotlight_uri = 'https://api.dbpedia-spotlight.org/en'\n",
        "    candidates = spotlight.candidates(f'{spotlight_uri}/candidates', text, confidence=confidence, support=support, filters=filters)\n",
        "    list_candidates = []\n",
        "    for candidate in candidates:\n",
        "      if type(candidate['resource']).__name__ == 'list':\n",
        "        for resource in candidate['resource']:\n",
        "          list_candidates.append(set_candidate(candidate['name'], resource))\n",
        "      else:\n",
        "        list_candidates.append(set_candidate(candidate['name'], candidate['resource']))\n",
        "    return list_candidates\n",
        "  except Exception as e:\n",
        "    pass\n",
        "    # print(e)"
      ]
    },
    {
      "cell_type": "markdown",
      "metadata": {
        "id": "xSRq-rus2I5z"
      },
      "source": [
        "#### Method for set country relationships"
      ]
    },
    {
      "cell_type": "code",
      "execution_count": 69,
      "metadata": {
        "id": "tlVxBPee2Qf-"
      },
      "outputs": [],
      "source": [
        "def set_country_relationships(country_uri, candidates, graph):\n",
        "  for candidate in candidates:\n",
        "    candidate_uri = URIRef(candidate['uri'])\n",
        "    graph.add((country_uri, owl.sameAs, candidate_uri))\n",
        "  return graph"
      ]
    },
    {
      "cell_type": "markdown",
      "metadata": {
        "id": "zXQbBTajrc2m"
      },
      "source": [
        "#### Method for set city relationships"
      ]
    },
    {
      "cell_type": "code",
      "execution_count": 70,
      "metadata": {
        "id": "CCdR5xFarc2o"
      },
      "outputs": [],
      "source": [
        "def set_city_relationships(city_uri, candidates, graph):\n",
        "  for candidate in candidates:\n",
        "    candidate_uri = URIRef(candidate['uri'])\n",
        "    graph.add((city_uri, owl.sameAs, candidate_uri))\n",
        "  return graph"
      ]
    },
    {
      "cell_type": "markdown",
      "metadata": {
        "id": "LgAyiMLv12bY"
      },
      "source": [
        "#### Load data from rdf file"
      ]
    },
    {
      "cell_type": "code",
      "execution_count": 71,
      "metadata": {
        "colab": {
          "base_uri": "https://localhost:8080/"
        },
        "id": "9IAa_HvA0Vlx",
        "outputId": "e82394b4-1c84-43ff-bd6f-78395e3c549e"
      },
      "outputs": [
        {
          "output_type": "execute_result",
          "data": {
            "text/plain": [
              "<Graph identifier=N2e18db24c645478ca9f434f09f805393 (<class 'rdflib.graph.Graph'>)>"
            ]
          },
          "metadata": {},
          "execution_count": 71
        }
      ],
      "source": [
        "from rdflib import Graph\n",
        "\n",
        "graph = Graph()\n",
        "graph.parse('articles.ttl')"
      ]
    },
    {
      "cell_type": "markdown",
      "metadata": {
        "id": "lBZYj6BwGBkY"
      },
      "source": [
        "#### List of countries candidates to daframe"
      ]
    },
    {
      "cell_type": "code",
      "execution_count": 72,
      "metadata": {
        "id": "SGPZJgvqGA_7"
      },
      "outputs": [],
      "source": [
        "import pandas as pd\n",
        "country_results = pd.DataFrame()\n",
        "\n",
        "place_filter = {\n",
        "  'types': 'DBpedia:Place'\n",
        "}\n",
        "# List of countries\n",
        "for subject, predicate, obj in graph.triples((None, rdf['type'], dbo.Country)):\n",
        "  candidates = get_candidates(subject, place_filter)\n",
        "  if candidates:\n",
        "      graph = set_country_relationships(subject, candidates, graph)\n",
        "      country_results = country_results.append(candidates, ignore_index=True)"
      ]
    },
    {
      "cell_type": "code",
      "source": [
        "country_results.head(5)"
      ],
      "metadata": {
        "colab": {
          "base_uri": "https://localhost:8080/",
          "height": 0
        },
        "id": "c9KFFcG8rGeV",
        "outputId": "5137114c-3b97-45e7-fe85-b747fea7fca0"
      },
      "execution_count": 73,
      "outputs": [
        {
          "output_type": "execute_result",
          "data": {
            "text/plain": [
              "      name    label                                  uri  contextualScore  \\\n",
              "0  Bahrain  Bahrain  http://dbpedia.org/resource/Bahrain         0.010974   \n",
              "1  Estonia  Estonia  http://dbpedia.org/resource/Estonia         0.003276   \n",
              "2    Gabon    Gabon    http://dbpedia.org/resource/Gabon         0.004754   \n",
              "3   Greece   Greece   http://dbpedia.org/resource/Greece         0.001351   \n",
              "4  Hungary  Hungary  http://dbpedia.org/resource/Hungary         0.004736   \n",
              "\n",
              "   finalScore                                         categories  \n",
              "0    0.973410  Wikidata:Q6256, Schema:Place, Schema:Country, ...  \n",
              "1    0.976137  Wikidata:Q6256, Schema:Place, Schema:Country, ...  \n",
              "2    0.958515  Wikidata:Q6256, Schema:Place, Schema:Country, ...  \n",
              "3    0.676972  Wikidata:Q6256, Schema:Place, Schema:Country, ...  \n",
              "4    0.917794  Wikidata:Q6256, Schema:Place, Schema:Country, ...  "
            ],
            "text/html": [
              "\n",
              "  <div id=\"df-eac4d666-7dda-40c6-92bf-a577df3934de\">\n",
              "    <div class=\"colab-df-container\">\n",
              "      <div>\n",
              "<style scoped>\n",
              "    .dataframe tbody tr th:only-of-type {\n",
              "        vertical-align: middle;\n",
              "    }\n",
              "\n",
              "    .dataframe tbody tr th {\n",
              "        vertical-align: top;\n",
              "    }\n",
              "\n",
              "    .dataframe thead th {\n",
              "        text-align: right;\n",
              "    }\n",
              "</style>\n",
              "<table border=\"1\" class=\"dataframe\">\n",
              "  <thead>\n",
              "    <tr style=\"text-align: right;\">\n",
              "      <th></th>\n",
              "      <th>name</th>\n",
              "      <th>label</th>\n",
              "      <th>uri</th>\n",
              "      <th>contextualScore</th>\n",
              "      <th>finalScore</th>\n",
              "      <th>categories</th>\n",
              "    </tr>\n",
              "  </thead>\n",
              "  <tbody>\n",
              "    <tr>\n",
              "      <th>0</th>\n",
              "      <td>Bahrain</td>\n",
              "      <td>Bahrain</td>\n",
              "      <td>http://dbpedia.org/resource/Bahrain</td>\n",
              "      <td>0.010974</td>\n",
              "      <td>0.973410</td>\n",
              "      <td>Wikidata:Q6256, Schema:Place, Schema:Country, ...</td>\n",
              "    </tr>\n",
              "    <tr>\n",
              "      <th>1</th>\n",
              "      <td>Estonia</td>\n",
              "      <td>Estonia</td>\n",
              "      <td>http://dbpedia.org/resource/Estonia</td>\n",
              "      <td>0.003276</td>\n",
              "      <td>0.976137</td>\n",
              "      <td>Wikidata:Q6256, Schema:Place, Schema:Country, ...</td>\n",
              "    </tr>\n",
              "    <tr>\n",
              "      <th>2</th>\n",
              "      <td>Gabon</td>\n",
              "      <td>Gabon</td>\n",
              "      <td>http://dbpedia.org/resource/Gabon</td>\n",
              "      <td>0.004754</td>\n",
              "      <td>0.958515</td>\n",
              "      <td>Wikidata:Q6256, Schema:Place, Schema:Country, ...</td>\n",
              "    </tr>\n",
              "    <tr>\n",
              "      <th>3</th>\n",
              "      <td>Greece</td>\n",
              "      <td>Greece</td>\n",
              "      <td>http://dbpedia.org/resource/Greece</td>\n",
              "      <td>0.001351</td>\n",
              "      <td>0.676972</td>\n",
              "      <td>Wikidata:Q6256, Schema:Place, Schema:Country, ...</td>\n",
              "    </tr>\n",
              "    <tr>\n",
              "      <th>4</th>\n",
              "      <td>Hungary</td>\n",
              "      <td>Hungary</td>\n",
              "      <td>http://dbpedia.org/resource/Hungary</td>\n",
              "      <td>0.004736</td>\n",
              "      <td>0.917794</td>\n",
              "      <td>Wikidata:Q6256, Schema:Place, Schema:Country, ...</td>\n",
              "    </tr>\n",
              "  </tbody>\n",
              "</table>\n",
              "</div>\n",
              "      <button class=\"colab-df-convert\" onclick=\"convertToInteractive('df-eac4d666-7dda-40c6-92bf-a577df3934de')\"\n",
              "              title=\"Convert this dataframe to an interactive table.\"\n",
              "              style=\"display:none;\">\n",
              "        \n",
              "  <svg xmlns=\"http://www.w3.org/2000/svg\" height=\"24px\"viewBox=\"0 0 24 24\"\n",
              "       width=\"24px\">\n",
              "    <path d=\"M0 0h24v24H0V0z\" fill=\"none\"/>\n",
              "    <path d=\"M18.56 5.44l.94 2.06.94-2.06 2.06-.94-2.06-.94-.94-2.06-.94 2.06-2.06.94zm-11 1L8.5 8.5l.94-2.06 2.06-.94-2.06-.94L8.5 2.5l-.94 2.06-2.06.94zm10 10l.94 2.06.94-2.06 2.06-.94-2.06-.94-.94-2.06-.94 2.06-2.06.94z\"/><path d=\"M17.41 7.96l-1.37-1.37c-.4-.4-.92-.59-1.43-.59-.52 0-1.04.2-1.43.59L10.3 9.45l-7.72 7.72c-.78.78-.78 2.05 0 2.83L4 21.41c.39.39.9.59 1.41.59.51 0 1.02-.2 1.41-.59l7.78-7.78 2.81-2.81c.8-.78.8-2.07 0-2.86zM5.41 20L4 18.59l7.72-7.72 1.47 1.35L5.41 20z\"/>\n",
              "  </svg>\n",
              "      </button>\n",
              "      \n",
              "  <style>\n",
              "    .colab-df-container {\n",
              "      display:flex;\n",
              "      flex-wrap:wrap;\n",
              "      gap: 12px;\n",
              "    }\n",
              "\n",
              "    .colab-df-convert {\n",
              "      background-color: #E8F0FE;\n",
              "      border: none;\n",
              "      border-radius: 50%;\n",
              "      cursor: pointer;\n",
              "      display: none;\n",
              "      fill: #1967D2;\n",
              "      height: 32px;\n",
              "      padding: 0 0 0 0;\n",
              "      width: 32px;\n",
              "    }\n",
              "\n",
              "    .colab-df-convert:hover {\n",
              "      background-color: #E2EBFA;\n",
              "      box-shadow: 0px 1px 2px rgba(60, 64, 67, 0.3), 0px 1px 3px 1px rgba(60, 64, 67, 0.15);\n",
              "      fill: #174EA6;\n",
              "    }\n",
              "\n",
              "    [theme=dark] .colab-df-convert {\n",
              "      background-color: #3B4455;\n",
              "      fill: #D2E3FC;\n",
              "    }\n",
              "\n",
              "    [theme=dark] .colab-df-convert:hover {\n",
              "      background-color: #434B5C;\n",
              "      box-shadow: 0px 1px 3px 1px rgba(0, 0, 0, 0.15);\n",
              "      filter: drop-shadow(0px 1px 2px rgba(0, 0, 0, 0.3));\n",
              "      fill: #FFFFFF;\n",
              "    }\n",
              "  </style>\n",
              "\n",
              "      <script>\n",
              "        const buttonEl =\n",
              "          document.querySelector('#df-eac4d666-7dda-40c6-92bf-a577df3934de button.colab-df-convert');\n",
              "        buttonEl.style.display =\n",
              "          google.colab.kernel.accessAllowed ? 'block' : 'none';\n",
              "\n",
              "        async function convertToInteractive(key) {\n",
              "          const element = document.querySelector('#df-eac4d666-7dda-40c6-92bf-a577df3934de');\n",
              "          const dataTable =\n",
              "            await google.colab.kernel.invokeFunction('convertToInteractive',\n",
              "                                                     [key], {});\n",
              "          if (!dataTable) return;\n",
              "\n",
              "          const docLinkHtml = 'Like what you see? Visit the ' +\n",
              "            '<a target=\"_blank\" href=https://colab.research.google.com/notebooks/data_table.ipynb>data table notebook</a>'\n",
              "            + ' to learn more about interactive tables.';\n",
              "          element.innerHTML = '';\n",
              "          dataTable['output_type'] = 'display_data';\n",
              "          await google.colab.output.renderOutput(dataTable, element);\n",
              "          const docLink = document.createElement('div');\n",
              "          docLink.innerHTML = docLinkHtml;\n",
              "          element.appendChild(docLink);\n",
              "        }\n",
              "      </script>\n",
              "    </div>\n",
              "  </div>\n",
              "  "
            ]
          },
          "metadata": {},
          "execution_count": 73
        }
      ]
    },
    {
      "cell_type": "markdown",
      "metadata": {
        "id": "F4fhFZPxrQsq"
      },
      "source": [
        "#### List of cities candidates to daframe"
      ]
    },
    {
      "cell_type": "code",
      "execution_count": 74,
      "metadata": {
        "id": "WoJG-T9OrQsr"
      },
      "outputs": [],
      "source": [
        "import pandas as pd\n",
        "city_results = pd.DataFrame()\n",
        "\n",
        "place_filter = {\n",
        "  'types': 'DBpedia:Place'\n",
        "}\n",
        "# List of cities\n",
        "for subject, predicate, obj in graph.triples((None, rdf['type'], dbo.City)):\n",
        "  candidates = get_candidates(subject, place_filter)\n",
        "  if candidates:\n",
        "    graph = set_city_relationships(subject, candidates, graph)\n",
        "    city_results = city_results.append(candidates, ignore_index=True)"
      ]
    },
    {
      "cell_type": "code",
      "source": [
        "city_results.head(5)"
      ],
      "metadata": {
        "colab": {
          "base_uri": "https://localhost:8080/",
          "height": 206
        },
        "id": "xGfNhkAC0fnb",
        "outputId": "573e2e70-e21e-4392-e5b2-334b9d9503fc"
      },
      "execution_count": 75,
      "outputs": [
        {
          "output_type": "execute_result",
          "data": {
            "text/plain": [
              "         name            label                                          uri  \\\n",
              "0       Ajman            Ajman            http://dbpedia.org/resource/Ajman   \n",
              "1    Alcorcon         Alcorcón         http://dbpedia.org/resource/Alcorcón   \n",
              "2  Alexandria       Alexandria       http://dbpedia.org/resource/Alexandria   \n",
              "3      Almada           Almada           http://dbpedia.org/resource/Almada   \n",
              "4   Annapolis  Annapolis Royal  http://dbpedia.org/resource/Annapolis_Royal   \n",
              "\n",
              "   contextualScore  finalScore  \\\n",
              "0         0.999990    1.000000   \n",
              "1         0.500000    0.991632   \n",
              "2         0.004837    0.975198   \n",
              "3         0.999909    1.000000   \n",
              "4         0.950715    0.649334   \n",
              "\n",
              "                                          categories  \n",
              "0  Wikidata:Q515, Wikidata:Q486972, Schema:Place,...  \n",
              "1  Wikidata:Q486972, Schema:Place, DBpedia:Popula...  \n",
              "2  Wikidata:Q515, Wikidata:Q486972, Schema:Place,...  \n",
              "3  Wikidata:Q486972, Schema:Place, DBpedia:Popula...  \n",
              "4  Wikidata:Q486972, Wikidata:Q3957, Schema:Place...  "
            ],
            "text/html": [
              "\n",
              "  <div id=\"df-33a0a6a9-c0d7-4f6e-a9ef-e66342512b5d\">\n",
              "    <div class=\"colab-df-container\">\n",
              "      <div>\n",
              "<style scoped>\n",
              "    .dataframe tbody tr th:only-of-type {\n",
              "        vertical-align: middle;\n",
              "    }\n",
              "\n",
              "    .dataframe tbody tr th {\n",
              "        vertical-align: top;\n",
              "    }\n",
              "\n",
              "    .dataframe thead th {\n",
              "        text-align: right;\n",
              "    }\n",
              "</style>\n",
              "<table border=\"1\" class=\"dataframe\">\n",
              "  <thead>\n",
              "    <tr style=\"text-align: right;\">\n",
              "      <th></th>\n",
              "      <th>name</th>\n",
              "      <th>label</th>\n",
              "      <th>uri</th>\n",
              "      <th>contextualScore</th>\n",
              "      <th>finalScore</th>\n",
              "      <th>categories</th>\n",
              "    </tr>\n",
              "  </thead>\n",
              "  <tbody>\n",
              "    <tr>\n",
              "      <th>0</th>\n",
              "      <td>Ajman</td>\n",
              "      <td>Ajman</td>\n",
              "      <td>http://dbpedia.org/resource/Ajman</td>\n",
              "      <td>0.999990</td>\n",
              "      <td>1.000000</td>\n",
              "      <td>Wikidata:Q515, Wikidata:Q486972, Schema:Place,...</td>\n",
              "    </tr>\n",
              "    <tr>\n",
              "      <th>1</th>\n",
              "      <td>Alcorcon</td>\n",
              "      <td>Alcorcón</td>\n",
              "      <td>http://dbpedia.org/resource/Alcorcón</td>\n",
              "      <td>0.500000</td>\n",
              "      <td>0.991632</td>\n",
              "      <td>Wikidata:Q486972, Schema:Place, DBpedia:Popula...</td>\n",
              "    </tr>\n",
              "    <tr>\n",
              "      <th>2</th>\n",
              "      <td>Alexandria</td>\n",
              "      <td>Alexandria</td>\n",
              "      <td>http://dbpedia.org/resource/Alexandria</td>\n",
              "      <td>0.004837</td>\n",
              "      <td>0.975198</td>\n",
              "      <td>Wikidata:Q515, Wikidata:Q486972, Schema:Place,...</td>\n",
              "    </tr>\n",
              "    <tr>\n",
              "      <th>3</th>\n",
              "      <td>Almada</td>\n",
              "      <td>Almada</td>\n",
              "      <td>http://dbpedia.org/resource/Almada</td>\n",
              "      <td>0.999909</td>\n",
              "      <td>1.000000</td>\n",
              "      <td>Wikidata:Q486972, Schema:Place, DBpedia:Popula...</td>\n",
              "    </tr>\n",
              "    <tr>\n",
              "      <th>4</th>\n",
              "      <td>Annapolis</td>\n",
              "      <td>Annapolis Royal</td>\n",
              "      <td>http://dbpedia.org/resource/Annapolis_Royal</td>\n",
              "      <td>0.950715</td>\n",
              "      <td>0.649334</td>\n",
              "      <td>Wikidata:Q486972, Wikidata:Q3957, Schema:Place...</td>\n",
              "    </tr>\n",
              "  </tbody>\n",
              "</table>\n",
              "</div>\n",
              "      <button class=\"colab-df-convert\" onclick=\"convertToInteractive('df-33a0a6a9-c0d7-4f6e-a9ef-e66342512b5d')\"\n",
              "              title=\"Convert this dataframe to an interactive table.\"\n",
              "              style=\"display:none;\">\n",
              "        \n",
              "  <svg xmlns=\"http://www.w3.org/2000/svg\" height=\"24px\"viewBox=\"0 0 24 24\"\n",
              "       width=\"24px\">\n",
              "    <path d=\"M0 0h24v24H0V0z\" fill=\"none\"/>\n",
              "    <path d=\"M18.56 5.44l.94 2.06.94-2.06 2.06-.94-2.06-.94-.94-2.06-.94 2.06-2.06.94zm-11 1L8.5 8.5l.94-2.06 2.06-.94-2.06-.94L8.5 2.5l-.94 2.06-2.06.94zm10 10l.94 2.06.94-2.06 2.06-.94-2.06-.94-.94-2.06-.94 2.06-2.06.94z\"/><path d=\"M17.41 7.96l-1.37-1.37c-.4-.4-.92-.59-1.43-.59-.52 0-1.04.2-1.43.59L10.3 9.45l-7.72 7.72c-.78.78-.78 2.05 0 2.83L4 21.41c.39.39.9.59 1.41.59.51 0 1.02-.2 1.41-.59l7.78-7.78 2.81-2.81c.8-.78.8-2.07 0-2.86zM5.41 20L4 18.59l7.72-7.72 1.47 1.35L5.41 20z\"/>\n",
              "  </svg>\n",
              "      </button>\n",
              "      \n",
              "  <style>\n",
              "    .colab-df-container {\n",
              "      display:flex;\n",
              "      flex-wrap:wrap;\n",
              "      gap: 12px;\n",
              "    }\n",
              "\n",
              "    .colab-df-convert {\n",
              "      background-color: #E8F0FE;\n",
              "      border: none;\n",
              "      border-radius: 50%;\n",
              "      cursor: pointer;\n",
              "      display: none;\n",
              "      fill: #1967D2;\n",
              "      height: 32px;\n",
              "      padding: 0 0 0 0;\n",
              "      width: 32px;\n",
              "    }\n",
              "\n",
              "    .colab-df-convert:hover {\n",
              "      background-color: #E2EBFA;\n",
              "      box-shadow: 0px 1px 2px rgba(60, 64, 67, 0.3), 0px 1px 3px 1px rgba(60, 64, 67, 0.15);\n",
              "      fill: #174EA6;\n",
              "    }\n",
              "\n",
              "    [theme=dark] .colab-df-convert {\n",
              "      background-color: #3B4455;\n",
              "      fill: #D2E3FC;\n",
              "    }\n",
              "\n",
              "    [theme=dark] .colab-df-convert:hover {\n",
              "      background-color: #434B5C;\n",
              "      box-shadow: 0px 1px 3px 1px rgba(0, 0, 0, 0.15);\n",
              "      filter: drop-shadow(0px 1px 2px rgba(0, 0, 0, 0.3));\n",
              "      fill: #FFFFFF;\n",
              "    }\n",
              "  </style>\n",
              "\n",
              "      <script>\n",
              "        const buttonEl =\n",
              "          document.querySelector('#df-33a0a6a9-c0d7-4f6e-a9ef-e66342512b5d button.colab-df-convert');\n",
              "        buttonEl.style.display =\n",
              "          google.colab.kernel.accessAllowed ? 'block' : 'none';\n",
              "\n",
              "        async function convertToInteractive(key) {\n",
              "          const element = document.querySelector('#df-33a0a6a9-c0d7-4f6e-a9ef-e66342512b5d');\n",
              "          const dataTable =\n",
              "            await google.colab.kernel.invokeFunction('convertToInteractive',\n",
              "                                                     [key], {});\n",
              "          if (!dataTable) return;\n",
              "\n",
              "          const docLinkHtml = 'Like what you see? Visit the ' +\n",
              "            '<a target=\"_blank\" href=https://colab.research.google.com/notebooks/data_table.ipynb>data table notebook</a>'\n",
              "            + ' to learn more about interactive tables.';\n",
              "          element.innerHTML = '';\n",
              "          dataTable['output_type'] = 'display_data';\n",
              "          await google.colab.output.renderOutput(dataTable, element);\n",
              "          const docLink = document.createElement('div');\n",
              "          docLink.innerHTML = docLinkHtml;\n",
              "          element.appendChild(docLink);\n",
              "        }\n",
              "      </script>\n",
              "    </div>\n",
              "  </div>\n",
              "  "
            ]
          },
          "metadata": {},
          "execution_count": 75
        }
      ]
    },
    {
      "cell_type": "markdown",
      "source": [
        "### Get annotations with Tagme API"
      ],
      "metadata": {
        "id": "Q7E03V_e12hZ"
      }
    },
    {
      "cell_type": "code",
      "execution_count": 76,
      "metadata": {
        "id": "dL2DVzud5WCT"
      },
      "outputs": [],
      "source": [
        "import requests \n",
        "\n",
        "tagme_uri = 'https://tagme.d4science.org/tagme/tag'\n",
        "tagme_token = '77c141ac-c6e2-448d-af84-b29eb9dc4f53-843339462'\n",
        "tagme_payload = {\n",
        "  'lang': 'en',\n",
        "  'include_abstract': 'true',\n",
        "  'include_categories': 'true',\n",
        "  'gcube-token': tagme_token\n",
        "}\n",
        "\n",
        "tagme_headers = {\n",
        "  'user-agent': 'Mozilla/5.0',\n",
        "  'accept': 'application/json', \n",
        "  'content-type': 'application/json'\n",
        "}\n"
      ]
    },
    {
      "cell_type": "code",
      "execution_count": 77,
      "metadata": {
        "id": "B-SAVwedA_9Q"
      },
      "outputs": [],
      "source": [
        "def set_annotation_category(article_id, annotation, category):\n",
        "  return {\n",
        "    'article_id': article_id,\n",
        "    'annotation': dbr + annotation['spot'].capitalize().replace(' ', '_'),\n",
        "    'rho': annotation['rho'],\n",
        "    'link_probability': annotation['link_probability'],\n",
        "    'category': dbc + category.capitalize().replace(' ', '_')\n",
        "  }"
      ]
    },
    {
      "cell_type": "code",
      "execution_count": 78,
      "metadata": {
        "id": "xjEBTI_t67Y7"
      },
      "outputs": [],
      "source": [
        "def get_annotations(article_id, abstract):\n",
        "  tagme_payload['text'] = abstract\n",
        "  response = requests.get(tagme_uri, params=tagme_payload, headers=tagme_headers)\n",
        "  categories = []\n",
        "  if response.status_code == 200:\n",
        "    annotations = response.json()['annotations']\n",
        "    for annotation in annotations:\n",
        "      if annotation['rho'] > 0.1 and annotation['link_probability'] > 0.1 and 'dbpedia_categories' in annotation.keys():\n",
        "        for category in annotation['dbpedia_categories']:\n",
        "          categories.append(set_annotation_category(article_id, annotation, category))\n",
        "  return categories\n"
      ]
    },
    {
      "cell_type": "markdown",
      "metadata": {
        "id": "WaU6UbGpGEWJ"
      },
      "source": [
        "#### Method to set relationships between annotation and category"
      ]
    },
    {
      "cell_type": "code",
      "execution_count": 79,
      "metadata": {
        "id": "aAaWzWqeGEWK"
      },
      "outputs": [],
      "source": [
        "def set_annotation_category_relationship(annotation_uri, category, graph):\n",
        "  category_uri = URIRef(category)\n",
        "  graph.add((annotation_uri, dct.subject, category_uri))\n",
        "  return graph"
      ]
    },
    {
      "cell_type": "markdown",
      "source": [
        "#### Method to set relationships between article and annotation"
      ],
      "metadata": {
        "id": "KT7KPaOKIQ_u"
      }
    },
    {
      "cell_type": "code",
      "source": [
        "def set_article_annotation_relationship(article_uri, annotations, graph):\n",
        "  for annotation in annotations:\n",
        "    annotation_uri = URIRef(annotation['annotation'])\n",
        "    graph = set_annotation_category_relationship(annotation_uri, annotation['category'], graph)\n",
        "    graph.add((article_uri, schema.mentions, annotation_uri))\n",
        "  return graph"
      ],
      "metadata": {
        "id": "UUNsB8PGIOB3"
      },
      "execution_count": 80,
      "outputs": []
    },
    {
      "cell_type": "code",
      "source": [
        "for article in graph.subjects(rdf['type'], bibo.Article):\n",
        "  abstract = graph.value(article, bibo.abstract) # Get abstract\n",
        "  if abstract:\n",
        "    annotations = get_annotations(article, abstract)\n",
        "    graph = set_article_annotation_relationship(article, annotations, graph)\n"
      ],
      "metadata": {
        "id": "z-LL6Nik3M_p"
      },
      "execution_count": 81,
      "outputs": []
    },
    {
      "cell_type": "code",
      "source": [
        "graph.serialize(destination='linkedArticles.ttl')"
      ],
      "metadata": {
        "colab": {
          "base_uri": "https://localhost:8080/"
        },
        "id": "edQyJGgf7Weq",
        "outputId": "7cb40b59-f66b-4ab0-ebd0-b09518684ddb"
      },
      "execution_count": 83,
      "outputs": [
        {
          "output_type": "execute_result",
          "data": {
            "text/plain": [
              "<Graph identifier=N2e18db24c645478ca9f434f09f805393 (<class 'rdflib.graph.Graph'>)>"
            ]
          },
          "metadata": {},
          "execution_count": 83
        }
      ]
    }
  ]
}