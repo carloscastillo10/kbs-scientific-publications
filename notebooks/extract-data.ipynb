{
  "nbformat": 4,
  "nbformat_minor": 0,
  "metadata": {
    "colab": {
      "name": "extract-data.ipynb",
      "provenance": [],
      "collapsed_sections": [],
      "authorship_tag": "ABX9TyPPfFf8r/nJ4/0ESgj9HM3o",
      "include_colab_link": true
    },
    "kernelspec": {
      "name": "python3",
      "display_name": "Python 3"
    },
    "language_info": {
      "name": "python"
    }
  },
  "cells": [
    {
      "cell_type": "markdown",
      "metadata": {
        "id": "view-in-github",
        "colab_type": "text"
      },
      "source": [
        "<a href=\"https://colab.research.google.com/github/carloscastillo10/kbs-scientific-publications/blob/development/notebooks/extract-data.ipynb\" target=\"_parent\"><img src=\"https://colab.research.google.com/assets/colab-badge.svg\" alt=\"Open In Colab\"/></a>"
      ]
    },
    {
      "cell_type": "markdown",
      "source": [
        "## Libraries"
      ],
      "metadata": {
        "id": "gglzjy3o4A-2"
      }
    },
    {
      "cell_type": "code",
      "source": [
        "from datetime import datetime\n",
        "import json\n",
        "import pytz\n",
        "import requests"
      ],
      "metadata": {
        "id": "OSMjhwpK4DUG"
      },
      "execution_count": null,
      "outputs": []
    },
    {
      "cell_type": "markdown",
      "source": [
        "## Methods"
      ],
      "metadata": {
        "id": "k8o85dPd_Kdy"
      }
    },
    {
      "cell_type": "markdown",
      "source": [
        "#### Iso Date to String date"
      ],
      "metadata": {
        "id": "CSPQCRUQ3hMV"
      }
    },
    {
      "cell_type": "code",
      "source": [
        "def convert_isodate_to_strdate(iso_date):\n",
        "  date = datetime.strptime(iso_date, '%Y-%m-%dT%H:%M:%S%fZ')\n",
        "  string_date = datetime.strftime(date, '%Y-%m-%d %H:%M:%S')\n",
        "  return string_date"
      ],
      "metadata": {
        "id": "laKoipuX4yG3"
      },
      "execution_count": null,
      "outputs": []
    },
    {
      "cell_type": "markdown",
      "source": [
        "#### Get current date"
      ],
      "metadata": {
        "id": "K9-f756x5thf"
      }
    },
    {
      "cell_type": "code",
      "source": [
        "def get_current_date():\n",
        "  current_date = datetime.now(pytz.timezone('America/Lima')).strftime('%Y-%m-%d')\n",
        "  return current_date"
      ],
      "metadata": {
        "id": "qh_55Ikz46zn"
      },
      "execution_count": null,
      "outputs": []
    },
    {
      "cell_type": "markdown",
      "source": [
        "#### Get works through scopus api"
      ],
      "metadata": {
        "id": "5uIzwL9iRsay"
      }
    },
    {
      "cell_type": "code",
      "source": [
        "def set_scopus_body(work):\n",
        "  scopus_body = {\n",
        "    'doi': work['prism:doi'], 'title': work['dc:title'], 'url': work['prism:url'], \n",
        "    'publication_name': work['prism:publicationName'], 'identifier': work['dc:identifier'].split(':')[-1], \n",
        "    'issn': '', 'article_number': '', \n",
        "    'open_access': work['openaccess'],\n",
        "    'volume': '', \n",
        "    'organization': [], 'citations': [\n",
        "      set_article_citation('Scopus', 'Número de citas en Scopus', 'Ámsterdam', 'Países Bajos', work['citedby-count'])\n",
        "    ],\n",
        "    'journal': ''\n",
        "  }\n",
        "  \n",
        "  \n",
        "  if 'prism:issn' in work.keys(): scopus_body['issn'] = work['prism:issn']\n",
        "  if 'article-number' in work.keys(): scopus_body['article_number'] = work['article-number']\n",
        "  if 'prism:volume' in work.keys(): scopus_body['volume'] = work['prism:volume']\n",
        "  if 'affiliation' in work.keys(): scopus_body['organization'] = [\n",
        "    {\n",
        "      'name': organization['affilname'], \n",
        "      'city': {'name': organization['affiliation-city']}, \n",
        "      'country': {'name': organization['affiliation-country']}\n",
        "    } for organization in work['affiliation']\n",
        "  ]\n",
        "\n",
        "  return scopus_body\n",
        "  "
      ],
      "metadata": {
        "id": "nI22TpYKaNaZ"
      },
      "execution_count": null,
      "outputs": []
    },
    {
      "cell_type": "markdown",
      "source": [
        "#### Get article information in crossref using doi"
      ],
      "metadata": {
        "id": "sSJwFZ4M6bH0"
      }
    },
    {
      "cell_type": "code",
      "source": [
        "def get_crossref_content(crossref_uri, doi):\n",
        "  crossref_body = {'created': '', 'deposited': '', 'abstract': '', 'score': '', 'publisher': '', 'language': '', 'subject': '', 'author': []}\n",
        "  crossref_response = requests.get(f'{crossref_uri}/{doi}')\n",
        "  if crossref_response.status_code == 200:\n",
        "    crossref_content = crossref_response.json()['message']\n",
        "    crossref_body = {\n",
        "      'created': convert_isodate_to_strdate(crossref_content['created']['date-time']), \n",
        "      'deposited': convert_isodate_to_strdate(crossref_content['deposited']['date-time']),\n",
        "      'abstract': '', 'score': crossref_content['score'], 'publisher': crossref_content['publisher'], 'language': '', 'subject': '',\n",
        "      'author': []\n",
        "    }\n",
        "    if 'abstract' in crossref_content.keys(): crossref_body['abstract'] = crossref_content['abstract']\n",
        "    if 'subject' in crossref_content.keys(): crossref_body['subject'] = [{'name': subject_name} for subject_name in crossref_content['subject']]\n",
        "    if 'language' in crossref_content.keys(): crossref_body['language'] = {'acronym': crossref_content['language']}\n",
        "    if 'author' in crossref_content.keys():\n",
        "      for author in crossref_content['author']:\n",
        "        given_name, family_name = '', ''\n",
        "        if 'given' in author.keys(): given_name  = author['given']\n",
        "        elif 'give_name' in author.keys(): given_name = author['given_name']\n",
        "        elif 'name' in author.keys(): given_name = author['name']\n",
        "\n",
        "        if 'family' in author.keys(): family_name = author['family']\n",
        "        elif 'family_name' in author.keys(): family_name = author['family_name']\n",
        "\n",
        "        author_detail = {\n",
        "          'given_name': given_name, 'family_name': family_name,\n",
        "          'organization': []\n",
        "        }\n",
        "        if 'affiliation' in author.keys(): author_detail['organization'] = [{\n",
        "            'name': organization['name'], 'city': {'name': ''}, 'country': {'name': ''}\n",
        "          } for organization in author['affiliation']]\n",
        "        crossref_body['author'].append(author_detail)\n",
        "  return crossref_body"
      ],
      "metadata": {
        "id": "tbzpek916nUU"
      },
      "execution_count": null,
      "outputs": []
    },
    {
      "cell_type": "markdown",
      "source": [
        "#### Get article information in altmetric using doi"
      ],
      "metadata": {
        "id": "0egVuN2M8Uy0"
      }
    },
    {
      "cell_type": "code",
      "source": [
        "def get_altmetric_content(altmetric_uri, doi, article_body):\n",
        "  altmetric_response = requests.get(f'{altmetric_uri}/doi/{doi}')\n",
        "  if altmetric_response.status_code == 200:\n",
        "    altmetric_content = altmetric_response.json()\n",
        "    article_body['citations'].extend([\n",
        "      # set_article_citation('Posts', 'Número de publicaciones que mencionan al artículo', altmetric_content['cited_by_posts_count']),\n",
        "      # set_article_citation('Accounts', 'Suma de todas las entradas ”cited_by” que han utilizado el artículo', altmetric_content['cited_by_accounts_count']),\n",
        "      set_article_citation('Ulike', 'Número de lectores en citeUlike', 'Seongnam', 'South Korea', altmetric_content['readers']['citeulike']),\n",
        "      set_article_citation('Mendeley', 'Número de lectores en Mendeley', 'London', 'United Kingdom', altmetric_content['readers']['mendeley']),\n",
        "      set_article_citation('Connotea', 'Número de lectores en Connotea', 'Addis Ababa', 'Ethiopia', altmetric_content['readers']['connotea'])\n",
        "    ])\n",
        "\n",
        "    if 'cited_by_tweeters_count' in altmetric_content.keys(): article_body['citations'].append(\n",
        "      set_article_citation('Twitter', 'Número de cuentas de twitter que han tuiteado el artículo', 'California', 'United States', altmetric_content['cited_by_tweeters_count'])\n",
        "    )\n",
        "    if 'journal' in altmetric_content.keys(): article_body['journal'] = {'name': altmetric_content['journal']}\n",
        "  return article_body"
      ],
      "metadata": {
        "id": "nzEM5Hwm8fjK"
      },
      "execution_count": null,
      "outputs": []
    },
    {
      "cell_type": "code",
      "source": [
        "def set_article_citation(name, description, city, country, number):\n",
        "  date = get_current_date()\n",
        "  return {\n",
        "    'organization': {\n",
        "      'name': name, 'description': description, 'city': {'name': city}, 'country': {'name': country}\n",
        "    },\n",
        "    'date': date, \n",
        "    'number': int(number)\n",
        "  }"
      ],
      "metadata": {
        "id": "3PMoM5IALeJ7"
      },
      "execution_count": null,
      "outputs": []
    },
    {
      "cell_type": "markdown",
      "source": [
        "#### Dictionary to json"
      ],
      "metadata": {
        "id": "C6W4vsId__8o"
      }
    },
    {
      "cell_type": "code",
      "source": [
        "def save_articles(articles):\n",
        "  with open('articles.json', 'w') as file_json:\n",
        "    json.dump(articles, file_json, indent=4)"
      ],
      "metadata": {
        "id": "eRSUpXAlAHrM"
      },
      "execution_count": null,
      "outputs": []
    },
    {
      "cell_type": "markdown",
      "source": [
        "## Main"
      ],
      "metadata": {
        "id": "ue0nDQQ6_ZIX"
      }
    },
    {
      "cell_type": "code",
      "source": [
        "scopus_uri = 'https://api.elsevier.com/content/search/scopus'\n",
        "crossref_uri = 'https://api.crossref.org/works'\n",
        "altmetric_uri = 'https://api.altmetric.com/v1'"
      ],
      "metadata": {
        "id": "hOWPnlcaRece"
      },
      "execution_count": null,
      "outputs": []
    },
    {
      "cell_type": "code",
      "source": [
        "offset = 0\n",
        "payload = {\n",
        "  'query': 'TITLE-ABS-KEY(covid AND Latin AND America)',\n",
        "  'count': 0,\n",
        "  'start': offset,\n",
        "  'sort': 'relevancy',\n",
        "  'apikey': '759cef3732cf428bb6279e148c6b3768',\n",
        "}\n",
        "scopus_response = requests.get(scopus_uri, params=payload)"
      ],
      "metadata": {
        "id": "fY2yqCmCN6Cj"
      },
      "execution_count": null,
      "outputs": []
    },
    {
      "cell_type": "code",
      "source": [
        "articles = {'content': []}\n",
        "while scopus_response.status_code == 200 and 'entry' in scopus_response.json()['search-results'].keys():\n",
        "  works = scopus_response.json()['search-results']['entry']\n",
        "  print(offset)\n",
        "  for work in works:\n",
        "    try:\n",
        "      if 'prism:doi' in work.keys():\n",
        "        doi = work['prism:doi']\n",
        "        article_body = set_scopus_body(work)\n",
        "        \n",
        "        # Get article information in crossref using doi \n",
        "        crossref_body = get_crossref_content(crossref_uri, doi)\n",
        "        article_body.update(crossref_body)\n",
        "\n",
        "        # Get article information in altmetric using doi\n",
        "        altmetric_body = get_altmetric_content(altmetric_uri, doi, article_body)\n",
        "        article_body.update(altmetric_body)\n",
        "        articles['content'].append(article_body)\n",
        "    except Exception as e:\n",
        "      print(e)\n",
        "  offset += 25\n",
        "  payload['start'] = offset\n",
        "  scopus_response = requests.get(scopus_uri, params=payload)"
      ],
      "metadata": {
        "colab": {
          "base_uri": "https://localhost:8080/"
        },
        "id": "APHZ9sCMSEyC",
        "outputId": "1a6a17ba-83ec-4121-bfd9-438a9c201db3"
      },
      "execution_count": null,
      "outputs": [
        {
          "output_type": "stream",
          "name": "stdout",
          "text": [
            "0\n",
            "25\n",
            "50\n",
            "75\n",
            "100\n",
            "125\n",
            "150\n",
            "175\n",
            "200\n",
            "225\n",
            "250\n",
            "275\n",
            "300\n",
            "325\n",
            "350\n",
            "375\n",
            "400\n",
            "425\n",
            "450\n",
            "475\n",
            "500\n",
            "525\n",
            "550\n",
            "575\n",
            "600\n",
            "625\n",
            "650\n",
            "675\n",
            "700\n",
            "725\n",
            "750\n",
            "775\n",
            "800\n",
            "825\n",
            "850\n",
            "875\n",
            "900\n",
            "925\n",
            "950\n",
            "975\n",
            "1000\n",
            "1025\n",
            "1050\n",
            "1075\n"
          ]
        }
      ]
    },
    {
      "cell_type": "code",
      "source": [
        "len(articles['content'])"
      ],
      "metadata": {
        "colab": {
          "base_uri": "https://localhost:8080/"
        },
        "id": "FgH23BVssbhb",
        "outputId": "698256cf-9db8-42f5-ed18-e64616a47f7a"
      },
      "execution_count": null,
      "outputs": [
        {
          "output_type": "execute_result",
          "data": {
            "text/plain": [
              "1028"
            ]
          },
          "metadata": {},
          "execution_count": 239
        }
      ]
    },
    {
      "cell_type": "code",
      "source": [
        "save_articles(articles)"
      ],
      "metadata": {
        "id": "heXNaZrVWyHr"
      },
      "execution_count": null,
      "outputs": []
    },
    {
      "cell_type": "code",
      "source": [
        "import json\n",
        "articles = json.load(open('articles.json'))"
      ],
      "metadata": {
        "id": "fljeZuj7wZJR"
      },
      "execution_count": null,
      "outputs": []
    },
    {
      "cell_type": "code",
      "source": [
        "def replace_all(text, conditions):\n",
        "  for i, j in conditions.items():\n",
        "    text = text.replace(i, j)\n",
        "  return text"
      ],
      "metadata": {
        "id": "PSxLnKGH140N"
      },
      "execution_count": null,
      "outputs": []
    },
    {
      "cell_type": "code",
      "source": [
        "def get_abstract(article):\n",
        "  conditions = {'\\n': '', '  ': '', '<jats:title>': '', '</jats:title>': '', '<jats:sec>': '', '</jats:sec>': '', '</jats:p>': ''}\n",
        "  contents = replace_all(article['abstract'], conditions).split('<jats:p>')[1:]\n",
        "  abstract = \"\".join(contents)\n",
        "  return abstract\n"
      ],
      "metadata": {
        "id": "KVPKQ-dR2gVJ"
      },
      "execution_count": null,
      "outputs": []
    },
    {
      "cell_type": "code",
      "source": [
        "for article in articles['content']:\n",
        "  if article['abstract']:\n",
        "    article['abstract'] = get_abstract(article)"
      ],
      "metadata": {
        "id": "M3NbJFp31bFT"
      },
      "execution_count": null,
      "outputs": []
    },
    {
      "cell_type": "code",
      "source": [
        "save_articles(articles)"
      ],
      "metadata": {
        "id": "LS8uw1QIedqF"
      },
      "execution_count": null,
      "outputs": []
    }
  ]
}