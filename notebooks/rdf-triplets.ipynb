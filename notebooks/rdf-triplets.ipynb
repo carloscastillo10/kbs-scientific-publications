{
  "cells": [
    {
      "cell_type": "markdown",
      "metadata": {
        "id": "view-in-github",
        "colab_type": "text"
      },
      "source": [
        "<a href=\"https://colab.research.google.com/github/carloscastillo10/kbs-scientific-publications/blob/development/notebooks/rdf-triplets.ipynb\" target=\"_parent\"><img src=\"https://colab.research.google.com/assets/colab-badge.svg\" alt=\"Open In Colab\"/></a>"
      ]
    },
    {
      "cell_type": "markdown",
      "metadata": {
        "id": "5OMkE0RNUD6j"
      },
      "source": [
        "# RDF Data Creation"
      ]
    },
    {
      "cell_type": "code",
      "execution_count": 143,
      "metadata": {
        "id": "DVTuGLycUJAP"
      },
      "outputs": [],
      "source": [
        "from rdflib import Graph, Literal, URIRef"
      ]
    },
    {
      "cell_type": "markdown",
      "metadata": {
        "id": "TkfkaIY5RaRH"
      },
      "source": [
        "## 1. Set prefixes and import prefixes of models that I will reuse"
      ]
    },
    {
      "cell_type": "code",
      "execution_count": 144,
      "metadata": {
        "id": "mK4eHS5PR2FF"
      },
      "outputs": [],
      "source": [
        "from rdflib import Namespace\n",
        "from rdflib.namespace import FOAF as foaf, RDF as rdf, RDFS as rdfs, DCTERMS as dct, XSD as xsd\n",
        "\n",
        "schema = Namespace('http://schema.org/')\n",
        "bibo = Namespace('http://purl.org/ontology/bibo/')\n",
        "prism = Namespace('http://prismstandard.org/namespaces/basic/2.0/')\n",
        "dbo = Namespace('http://dbpedia.org/ontology/')\n",
        "dbr = Namespace('http://dbpedia.org/resource/')\n",
        "data = Namespace('http://example.org/data/')\n",
        "vocab = Namespace('http://example.org/vocabulary/')"
      ]
    },
    {
      "cell_type": "markdown",
      "metadata": {
        "id": "charDvw_VIND"
      },
      "source": [
        "## 2. Load my data from a json dataset"
      ]
    },
    {
      "cell_type": "code",
      "execution_count": 145,
      "metadata": {
        "id": "lLwDYm3SFJUc"
      },
      "outputs": [],
      "source": [
        "import requests"
      ]
    },
    {
      "cell_type": "code",
      "execution_count": 146,
      "metadata": {
        "id": "A9sYuCv6GERs"
      },
      "outputs": [],
      "source": [
        "response = requests.get(\"https://raw.githubusercontent.com/carloscastillo10/kbs-scientific-publications/development/data/articles.json\")"
      ]
    },
    {
      "cell_type": "code",
      "execution_count": 147,
      "metadata": {
        "id": "ISKU9SlzGJT7"
      },
      "outputs": [],
      "source": [
        "if response.status_code == 200:\n",
        "  articles = response.json()['content']"
      ]
    },
    {
      "cell_type": "markdown",
      "metadata": {
        "id": "Thy3tWVOVU0L"
      },
      "source": [
        "## 3. Add Triples to a graph"
      ]
    },
    {
      "cell_type": "markdown",
      "metadata": {
        "id": "JBLHIig3aigK"
      },
      "source": [
        "#### Normalize string"
      ]
    },
    {
      "cell_type": "code",
      "execution_count": 148,
      "metadata": {
        "id": "aheHzU_OanFq"
      },
      "outputs": [],
      "source": [
        "def normalize_string(value):\n",
        "  a,b = 'áéíóúü','aeiouu'\n",
        "  trans = str.maketrans(a,b)\n",
        "  if value: value = value.replace(' ', '').translate(trans)\n",
        "\n",
        "  return value"
      ]
    },
    {
      "cell_type": "markdown",
      "source": [
        "#### Normalize date"
      ],
      "metadata": {
        "id": "TVQTACr_QpAV"
      }
    },
    {
      "cell_type": "code",
      "execution_count": 149,
      "metadata": {
        "id": "Ad13XpHeeTWU"
      },
      "outputs": [],
      "source": [
        "def normalize_date(date):\n",
        "  return date.replace('-', '')"
      ]
    },
    {
      "cell_type": "markdown",
      "metadata": {
        "id": "aEYP9N-i0E2s"
      },
      "source": [
        "#### Add article literals to a graph"
      ]
    },
    {
      "cell_type": "code",
      "execution_count": 150,
      "metadata": {
        "id": "xCmrPc9qzDg3"
      },
      "outputs": [],
      "source": [
        "def create_article_literals(article, graph):\n",
        "  graph.add((article_uri, rdf.type, bibo.Article))\n",
        "  graph.add((article_uri, dct.identifier, Literal(article['identifier'])))\n",
        "  graph.add((article_uri, dct.title, Literal(article['title'])))\n",
        "  graph.add((article_uri, bibo.doi, Literal(article['doi'])))\n",
        "  graph.add((article_uri, prism.url, Literal(article['url'], datatype=xsd.anyURI)))\n",
        "  graph.add((article_uri, prism.publicationName, Literal(article['publication_name'])))\n",
        "  graph.add((article_uri, vocab.openAccess, Literal(article['open_access'])))\n",
        "\n",
        "  if article['article_number']: graph.add((article_uri, vocab.articleNumber, Literal(article['article_number'])))\n",
        "  if article['created']: graph.add((article_uri, dct.created, Literal(article['created'], datatype=xsd.date)))\n",
        "  if article['deposited']: graph.add((article_uri, schema.datePublished, Literal(article['deposited'], datatype=xsd.date)))\n",
        "  if article['abstract']: graph.add((article_uri, bibo.abstract, Literal(article['abstract'])))\n",
        "  if article['issn']: graph.add((article_uri, bibo.issn, Literal(article['issn'])))\n",
        "  if article['volume']: graph.add((article_uri, bibo.volume, Literal(article['volume'])))\n",
        "  if article['score']: graph.add((article_uri, vocab.publicationScore, Literal(article['score'], datatype=xsd.int)))\n",
        "\n",
        "  return graph\n"
      ]
    },
    {
      "cell_type": "markdown",
      "source": [
        "#### Add article language relationship to a graph"
      ],
      "metadata": {
        "id": "ntjhzG3hQu_-"
      }
    },
    {
      "cell_type": "code",
      "execution_count": 151,
      "metadata": {
        "id": "KLPbyBdM3ITZ"
      },
      "outputs": [],
      "source": [
        "def create_article_language_relationship(article_uri, language, graph):\n",
        "  language_uri = URIRef(dbr + 'language' + normalize_string(language['acronym'].upper()))\n",
        "  graph.add((language_uri, rdf.type, dbo.Language))\n",
        "  graph.add((language_uri, dbo.acronym, Literal(language['acronym'])))\n",
        "  graph.add((article_uri, dct.language, language_uri))\n",
        "  \n",
        "  return graph"
      ]
    },
    {
      "cell_type": "markdown",
      "source": [
        "#### Add article journal relationship to a graph"
      ],
      "metadata": {
        "id": "1U3BRMLtQ1FV"
      }
    },
    {
      "cell_type": "code",
      "execution_count": 152,
      "metadata": {
        "id": "76RiL2p-7XhB"
      },
      "outputs": [],
      "source": [
        "def create_article_journal_relationship(article_uri, journal, graph):\n",
        "  journal_uri = URIRef(bibo + 'Journal/' + normalize_string(journal['name']))\n",
        "  graph.add((journal_uri, rdf.type, dbo.Organization))\n",
        "  graph.add((journal_uri, schema.name, Literal(journal['name'])))\n",
        "  graph.add((article_uri, schema.publication, journal_uri))\n",
        "\n",
        "  return graph"
      ]
    },
    {
      "cell_type": "markdown",
      "source": [
        "#### Add article citation relationship to a graph"
      ],
      "metadata": {
        "id": "WFtf559yQ8Nj"
      }
    },
    {
      "cell_type": "code",
      "execution_count": 153,
      "metadata": {
        "id": "ofLzUjpzdho3"
      },
      "outputs": [],
      "source": [
        "def create_article_citation_relationship(article_uri, citations, graph):\n",
        "  for cite in article['citations']:\n",
        "    citation_uri = URIRef(data + normalize_string(cite['name'] + normalize_date(cite['date'])))\n",
        "    graph.add((citation_uri, rdf.type, data.Citation))\n",
        "    graph.add((citation_uri, foaf.name, Literal(cite['name'])))\n",
        "    graph.add((citation_uri, rdfs.comment, Literal(cite['description'])))\n",
        "    graph.add((citation_uri, vocab.extractionDate, Literal(cite['date'], datatype=xsd.date)))\n",
        "    graph.add((citation_uri, dbo.number, Literal(cite['number'], datatype=xsd.int)))\n",
        "    graph.add((article_uri, vocab.citedBy, citation_uri))\n",
        "  \n",
        "  return graph"
      ]
    },
    {
      "cell_type": "markdown",
      "source": [
        "#### Add organization city relationship to a graph"
      ],
      "metadata": {
        "id": "bI-Irio_Q-oc"
      }
    },
    {
      "cell_type": "code",
      "source": [
        "def create_organization_city_relationship(organization_uri, city, graph):\n",
        "  city_uri = URIRef(dbr + normalize_string(city['name']))\n",
        "  graph.add((city_uri, rdf.type, dbo.City))\n",
        "  graph.add((city_uri, foaf.name, Literal(city['name'])))\n",
        "  graph.add((organization_uri, dbo.city, city_uri))\n",
        "\n",
        "  return graph"
      ],
      "metadata": {
        "id": "rjWoAZd1QFVL"
      },
      "execution_count": 154,
      "outputs": []
    },
    {
      "cell_type": "markdown",
      "source": [
        "#### Add organization country relationship to a graph"
      ],
      "metadata": {
        "id": "6BICeEJ7RBa0"
      }
    },
    {
      "cell_type": "code",
      "source": [
        "def create_organization_country_relationship(organization_uri, country, graph):\n",
        "  country_uri = URIRef(dbr + normalize_string(country['name']))\n",
        "  graph.add((country_uri, rdf.type, dbo.Country))\n",
        "  graph.add((country_uri, foaf.name, Literal(country['name'])))\n",
        "  graph.add((organization_uri, dbo.country, country_uri))\n",
        "\n",
        "  return graph"
      ],
      "metadata": {
        "id": "3b0AEasRQKnM"
      },
      "execution_count": 155,
      "outputs": []
    },
    {
      "cell_type": "markdown",
      "source": [
        "#### Add article organization relationship to a graph"
      ],
      "metadata": {
        "id": "pte2MbdtRDRw"
      }
    },
    {
      "cell_type": "code",
      "source": [
        "def create_article_organization_relationship(article_uri, organizations, graph):\n",
        "  for organization in organizations:\n",
        "    organization_uri = URIRef(dbr + normalize_string(organization['name']))\n",
        "    graph.add((organization_uri, rdf.type, dbo.Organization))\n",
        "    graph.add((organization_uri, foaf.name, Literal(organization['name'])))\n",
        "    graph.add((article_uri, schema.affiliation, organization_uri))\n",
        "    \n",
        "    if organization['city']['name']: graph = create_organization_city_relationship(organization_uri, organization['city'], graph)\n",
        "    if organization['country']['name']: graph = create_organization_country_relationship(organization_uri, organization['country'], graph)\n",
        "  \n",
        "  return graph"
      ],
      "metadata": {
        "id": "lvQc1fFQQNyn"
      },
      "execution_count": 156,
      "outputs": []
    },
    {
      "cell_type": "markdown",
      "source": [
        "#### Add article author relationship to a graph"
      ],
      "metadata": {
        "id": "wRWbkzWmRGS3"
      }
    },
    {
      "cell_type": "code",
      "source": [
        "def create_article_author_relationship(article_uri, authors, graph):\n",
        "  for author in authors:\n",
        "    author_uri = URIRef(data + normalize_string(author['given_name'] + author['family_name']))\n",
        "    graph.add((author_uri, rdf.type, foaf.Person))\n",
        "    graph.add((author_uri, foaf.givenName, Literal(author['given_name'])))\n",
        "    graph.add((author_uri, foaf.familyName, Literal(author['family_name'])))\n",
        "    graph.add((article_uri, dct.creator, author_uri))\n",
        "\n",
        "  return graph"
      ],
      "metadata": {
        "id": "1KoTloE3Py4K"
      },
      "execution_count": 157,
      "outputs": []
    },
    {
      "cell_type": "markdown",
      "source": [
        "#### Add triples"
      ],
      "metadata": {
        "id": "SWA5_NmMRRFB"
      }
    },
    {
      "cell_type": "code",
      "execution_count": 158,
      "metadata": {
        "id": "z7wIkWjgVZN9"
      },
      "outputs": [],
      "source": [
        "graph = Graph()\n",
        "\n",
        "for article in articles:\n",
        "  article_uri = URIRef(data + article['identifier'])\n",
        "  graph = create_article_literals(article, graph)\n",
        "\n",
        "  if article['language']: graph = create_article_language_relationship(article_uri, article['language'], graph)\n",
        "  if article['journal']: graph = create_article_journal_relationship(article_uri, article['journal'], graph)\n",
        "  if article['citations']: graph = create_article_citation_relationship(article_uri, article['citations'], graph)\n",
        "  if article['author']: graph = create_article_author_relationship(article_uri, article['author'], graph)\n",
        "  if article['organization']: graph = create_article_organization_relationship(article_uri, article['organization'], graph)\n",
        "\n",
        "  break"
      ]
    },
    {
      "cell_type": "code",
      "execution_count": 159,
      "metadata": {
        "colab": {
          "base_uri": "https://localhost:8080/"
        },
        "id": "TrpRlubvclXw",
        "outputId": "69a156c2-9df4-4fc3-d9b6-a656a6070b91"
      },
      "outputs": [
        {
          "output_type": "stream",
          "name": "stdout",
          "text": [
            "@prefix dcterms: <http://purl.org/dc/terms/> .\n",
            "@prefix foaf: <http://xmlns.com/foaf/0.1/> .\n",
            "@prefix ns1: <http://example.org/vocabulary/> .\n",
            "@prefix ns2: <http://dbpedia.org/ontology/> .\n",
            "@prefix ns3: <http://schema.org/> .\n",
            "@prefix ns4: <http://prismstandard.org/namespaces/basic/2.0/> .\n",
            "@prefix ns5: <http://purl.org/ontology/bibo/> .\n",
            "@prefix rdfs: <http://www.w3.org/2000/01/rdf-schema#> .\n",
            "@prefix xsd: <http://www.w3.org/2001/XMLSchema#> .\n",
            "\n",
            "<http://example.org/data/85128914627> a ns5:Article ;\n",
            "    ns1:articleNumber \"843\" ;\n",
            "    ns1:citedBy <http://example.org/data/Accounts20220603>,\n",
            "        <http://example.org/data/Connotea20220603>,\n",
            "        <http://example.org/data/Mendeley20220603>,\n",
            "        <http://example.org/data/Posts20220603>,\n",
            "        <http://example.org/data/Scopus20220603>,\n",
            "        <http://example.org/data/Twitter20220603>,\n",
            "        <http://example.org/data/Ulike20220603> ;\n",
            "    ns1:openAccess \"1\" ;\n",
            "    ns1:publicationScore \"1\"^^xsd:int ;\n",
            "    ns4:publicationName \"BMC Public Health\" ;\n",
            "    ns4:url \"https://api.elsevier.com/content/abstract/scopus_id/85128914627\"^^xsd:anyURI ;\n",
            "    dcterms:created \"2022-04-27\"^^xsd:date ;\n",
            "    dcterms:creator <http://example.org/data/BrianElbel>,\n",
            "        <http://example.org/data/DonaldRose>,\n",
            "        <http://example.org/data/EmilyG.Dimond>,\n",
            "        <http://example.org/data/MargaretA.Handley>,\n",
            "        <http://example.org/data/MelissaFuster>,\n",
            "        <http://example.org/data/MichelleA.Rodriguez>,\n",
            "        <http://example.org/data/RosaAbreu-Runkle>,\n",
            "        <http://example.org/data/TerryT.K.Huang> ;\n",
            "    dcterms:identifier \"85128914627\" ;\n",
            "    dcterms:language <http://dbpedia.org/resource/languageEN> ;\n",
            "    dcterms:title \"Promoting healthy eating in Latin American restaurants: a qualitative survey of views held by owners and staff\" ;\n",
            "    ns5:abstract \"\"\"<jats:title>Abstract</jats:title><jats:sec>\n",
            "                <jats:title>Background</jats:title>\n",
            "                <jats:p>Restaurants, particularly independently-owned ones that serve immigrant communities, are important community institutions in the promotion of dietary health. Yet, these restaurants remain under-researched, preventing meaningful collaborations with the public health sector for healthier community food environments. This research aimed to examine levels of acceptability of healthy eating promotion strategies (HEPS) in independently-owned Latin American restaurants (LARs) and identify resource needs for implementing HEPS in LARs.</jats:p>\n",
            "              </jats:sec><jats:sec>\n",
            "                <jats:title>Methods</jats:title>\n",
            "                <jats:p>We completed semi-structured, online discussions with LAR owners and staff (<jats:italic>n</jats:italic> = 20), predominantly from New York City (NYC), to examine current engagement, acceptability, potential barriers, and resource needs for the implementation of HEPS. Verbatim transcripts were analyzed independently by two coders using Dedoose, applying sentiment weighting to denote levels of acceptability for identified HEPS (1 = low, 2 = medium/neutral, 3 = high). Content analysis was used to examine factors associated with HEPS levels of acceptability and resource needs, including the influence of the Coronavirus pandemic (COVID-19).</jats:p>\n",
            "              </jats:sec><jats:sec>\n",
            "                <jats:title>Results</jats:title>\n",
            "                <jats:p>The most acceptable HEPS was menu highlights of healthier items (mean rating = 2.8), followed by promotion of healthier items (mean rating = 2.7), increasing healthy offerings (mean rating = 2.6), nutrition information on the menu (mean rating = 2.3), and reduced portions (mean rating = 1.7). Acceptability was associated with factors related to perceived demand, revenue, and logistical constraints. COVID-19 had a mixed influence on HEPS engagement and acceptability. Identified resource needs to engage in HEPS included nutrition knowledge, additional expertise (e.g., design, social media, culinary skills), and assistance with food suppliers and other restaurant operational logistics. Respondents also identified potential policy incentives.</jats:p>\n",
            "              </jats:sec><jats:sec>\n",
            "                <jats:title>Conclusions</jats:title>\n",
            "                <jats:p>LARs can positively influence eating behaviors but doing so requires balancing public health goals and business profitability. LARs also faced various constraints that require different levels of assistance and resources, underscoring the need for innovative engagement approaches, including incentives, to promote these changes.</jats:p>\n",
            "              </jats:sec>\"\"\" ;\n",
            "    ns5:doi \"10.1186/s12889-022-13294-7\" ;\n",
            "    ns5:volume \"22\" ;\n",
            "    ns3:affiliation <http://dbpedia.org/resource/TulaneUniversitySchoolofPublicHealthandTropicalMedicine> ;\n",
            "    ns3:datePublished \"2022-04-27\"^^xsd:date ;\n",
            "    ns3:publication <http://purl.org/ontology/bibo/Journal/BMCPublicHealth> .\n",
            "\n",
            "<http://dbpedia.org/resource/NewOrleans> a ns2:City ;\n",
            "    foaf:name \"New Orleans\" .\n",
            "\n",
            "<http://dbpedia.org/resource/TulaneUniversitySchoolofPublicHealthandTropicalMedicine> a ns2:Organization ;\n",
            "    ns2:city <http://dbpedia.org/resource/NewOrleans> ;\n",
            "    ns2:country <http://dbpedia.org/resource/UnitedStates> ;\n",
            "    foaf:name \"Tulane University School of Public Health and Tropical Medicine\" .\n",
            "\n",
            "<http://dbpedia.org/resource/UnitedStates> a ns2:Country ;\n",
            "    foaf:name \"United States\" .\n",
            "\n",
            "<http://dbpedia.org/resource/languageEN> a ns2:Language ;\n",
            "    ns2:acronym \"en\" .\n",
            "\n",
            "<http://example.org/data/Accounts20220603> a <http://example.org/data/Citation> ;\n",
            "    ns2:number \"5\"^^xsd:int ;\n",
            "    ns1:extractionDate \"2022-06-03\"^^xsd:date ;\n",
            "    rdfs:comment \"Suma de todas las entradas ”cited_by” que han utilizado el artículo\" ;\n",
            "    foaf:name \"Accounts\" .\n",
            "\n",
            "<http://example.org/data/BrianElbel> a foaf:Person ;\n",
            "    foaf:familyName \"Elbel\" ;\n",
            "    foaf:givenName \"Brian\" .\n",
            "\n",
            "<http://example.org/data/Connotea20220603> a <http://example.org/data/Citation> ;\n",
            "    ns2:number \"0\"^^xsd:int ;\n",
            "    ns1:extractionDate \"2022-06-03\"^^xsd:date ;\n",
            "    rdfs:comment \"Número de lectores en Connotea\" ;\n",
            "    foaf:name \"Connotea\" .\n",
            "\n",
            "<http://example.org/data/DonaldRose> a foaf:Person ;\n",
            "    foaf:familyName \"Rose\" ;\n",
            "    foaf:givenName \"Donald\" .\n",
            "\n",
            "<http://example.org/data/EmilyG.Dimond> a foaf:Person ;\n",
            "    foaf:familyName \"Dimond\" ;\n",
            "    foaf:givenName \"Emily G.\" .\n",
            "\n",
            "<http://example.org/data/MargaretA.Handley> a foaf:Person ;\n",
            "    foaf:familyName \"Handley\" ;\n",
            "    foaf:givenName \"Margaret A.\" .\n",
            "\n",
            "<http://example.org/data/MelissaFuster> a foaf:Person ;\n",
            "    foaf:familyName \"Fuster\" ;\n",
            "    foaf:givenName \"Melissa\" .\n",
            "\n",
            "<http://example.org/data/Mendeley20220603> a <http://example.org/data/Citation> ;\n",
            "    ns2:number \"0\"^^xsd:int ;\n",
            "    ns1:extractionDate \"2022-06-03\"^^xsd:date ;\n",
            "    rdfs:comment \"Número de lectores en Mendeley\" ;\n",
            "    foaf:name \"Mendeley\" .\n",
            "\n",
            "<http://example.org/data/MichelleA.Rodriguez> a foaf:Person ;\n",
            "    foaf:familyName \"Rodriguez\" ;\n",
            "    foaf:givenName \"Michelle A.\" .\n",
            "\n",
            "<http://example.org/data/Posts20220603> a <http://example.org/data/Citation> ;\n",
            "    ns2:number \"5\"^^xsd:int ;\n",
            "    ns1:extractionDate \"2022-06-03\"^^xsd:date ;\n",
            "    rdfs:comment \"Número de publicaciones que mencionan al artículo\" ;\n",
            "    foaf:name \"Posts\" .\n",
            "\n",
            "<http://example.org/data/RosaAbreu-Runkle> a foaf:Person ;\n",
            "    foaf:familyName \"Abreu-Runkle\" ;\n",
            "    foaf:givenName \"Rosa\" .\n",
            "\n",
            "<http://example.org/data/Scopus20220603> a <http://example.org/data/Citation> ;\n",
            "    ns2:number \"0\"^^xsd:int ;\n",
            "    ns1:extractionDate \"2022-06-03\"^^xsd:date ;\n",
            "    rdfs:comment \"Número de citas en Scopus\" ;\n",
            "    foaf:name \"Scopus\" .\n",
            "\n",
            "<http://example.org/data/TerryT.K.Huang> a foaf:Person ;\n",
            "    foaf:familyName \"Huang\" ;\n",
            "    foaf:givenName \"Terry T. K.\" .\n",
            "\n",
            "<http://example.org/data/Twitter20220603> a <http://example.org/data/Citation> ;\n",
            "    ns2:number \"5\"^^xsd:int ;\n",
            "    ns1:extractionDate \"2022-06-03\"^^xsd:date ;\n",
            "    rdfs:comment \"Número de cuentas de twitter que han tuiteado el artículo\" ;\n",
            "    foaf:name \"Twitter\" .\n",
            "\n",
            "<http://example.org/data/Ulike20220603> a <http://example.org/data/Citation> ;\n",
            "    ns2:number \"0\"^^xsd:int ;\n",
            "    ns1:extractionDate \"2022-06-03\"^^xsd:date ;\n",
            "    rdfs:comment \"Número de lectores en citeUlike\" ;\n",
            "    foaf:name \"Ulike\" .\n",
            "\n",
            "<http://purl.org/ontology/bibo/Journal/BMCPublicHealth> a ns2:Organization ;\n",
            "    ns3:name \"BMC Public Health\" .\n",
            "\n",
            "\n"
          ]
        }
      ],
      "source": [
        "graph.print()"
      ]
    },
    {
      "cell_type": "markdown",
      "metadata": {
        "id": "g3gDg4xefFsS"
      },
      "source": [
        "## 4. Saving RDF"
      ]
    },
    {
      "cell_type": "code",
      "execution_count": 160,
      "metadata": {
        "colab": {
          "base_uri": "https://localhost:8080/"
        },
        "id": "3PAyOl4sfKtU",
        "outputId": "8bb5ad37-0cf8-450d-eb35-8937dbbc8d8c"
      },
      "outputs": [
        {
          "output_type": "execute_result",
          "data": {
            "text/plain": [
              "<Graph identifier=Nd97f6ef038af4cffa3a56536737a882c (<class 'rdflib.graph.Graph'>)>"
            ]
          },
          "metadata": {},
          "execution_count": 160
        }
      ],
      "source": [
        "graph.serialize(destination='articles.ttl')"
      ]
    }
  ],
  "metadata": {
    "colab": {
      "name": "Rdf-triplets.ipynb",
      "provenance": [],
      "authorship_tag": "ABX9TyN6kkJBAumN1lylB1iyR4te",
      "include_colab_link": true
    },
    "kernelspec": {
      "display_name": "Python 3",
      "name": "python3"
    },
    "language_info": {
      "name": "python"
    }
  },
  "nbformat": 4,
  "nbformat_minor": 0
}