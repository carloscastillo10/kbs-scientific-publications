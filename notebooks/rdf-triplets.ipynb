{
  "cells": [
    {
      "cell_type": "markdown",
      "metadata": {
        "id": "view-in-github",
        "colab_type": "text"
      },
      "source": [
        "<a href=\"https://colab.research.google.com/github/carloscastillo10/kbs-scientific-publications/blob/development/notebooks/rdf-triplets.ipynb\" target=\"_parent\"><img src=\"https://colab.research.google.com/assets/colab-badge.svg\" alt=\"Open In Colab\"/></a>"
      ]
    },
    {
      "cell_type": "markdown",
      "metadata": {
        "id": "5OMkE0RNUD6j"
      },
      "source": [
        "# RDF Data Creation"
      ]
    },
    {
      "cell_type": "code",
      "execution_count": null,
      "metadata": {
        "id": "DVTuGLycUJAP"
      },
      "outputs": [],
      "source": [
        "from rdflib import Graph, Literal, URIRef"
      ]
    },
    {
      "cell_type": "markdown",
      "metadata": {
        "id": "TkfkaIY5RaRH"
      },
      "source": [
        "## 1. Set prefixes and import prefixes of models that I will reuse"
      ]
    },
    {
      "cell_type": "code",
      "execution_count": null,
      "metadata": {
        "id": "mK4eHS5PR2FF"
      },
      "outputs": [],
      "source": [
        "from rdflib import Namespace\n",
        "from rdflib.namespace import FOAF as foaf, RDF as rdf, RDFS as rdfs, \\\n",
        "  DCTERMS as dct, SKOS as skos, XSD as xsd\n",
        "\n",
        "schema = Namespace('http://schema.org/')\n",
        "bibo = Namespace('http://purl.org/ontology/bibo/')\n",
        "prism = Namespace('http://prismstandard.org/namespaces/basic/2.0/')\n",
        "dbo = Namespace('http://dbpedia.org/ontology/')\n",
        "dbr = Namespace('http://dbpedia.org/resource/')\n",
        "data = Namespace('http://example.org/data/')\n",
        "vocab = Namespace('http://example.org/vocabulary/')"
      ]
    },
    {
      "cell_type": "markdown",
      "metadata": {
        "id": "charDvw_VIND"
      },
      "source": [
        "## 2. Load my data from a json dataset"
      ]
    },
    {
      "cell_type": "code",
      "execution_count": null,
      "metadata": {
        "id": "lLwDYm3SFJUc"
      },
      "outputs": [],
      "source": [
        "import requests"
      ]
    },
    {
      "cell_type": "code",
      "execution_count": null,
      "metadata": {
        "id": "A9sYuCv6GERs"
      },
      "outputs": [],
      "source": [
        "response = requests.get(\"https://raw.githubusercontent.com/carloscastillo10/kbs-scientific-publications/development/data/articles.json\")"
      ]
    },
    {
      "cell_type": "code",
      "execution_count": null,
      "metadata": {
        "id": "ISKU9SlzGJT7"
      },
      "outputs": [],
      "source": [
        "if response.status_code == 200:\n",
        "  articles = response.json()['content']"
      ]
    },
    {
      "cell_type": "markdown",
      "metadata": {
        "id": "Thy3tWVOVU0L"
      },
      "source": [
        "## 3. Add Triples to a graph"
      ]
    },
    {
      "cell_type": "markdown",
      "metadata": {
        "id": "JBLHIig3aigK"
      },
      "source": [
        "#### Normalize string"
      ]
    },
    {
      "cell_type": "code",
      "execution_count": null,
      "metadata": {
        "id": "aheHzU_OanFq"
      },
      "outputs": [],
      "source": [
        "def normalize_string(value):\n",
        "  a,b = 'ÅÃ­áàãâäăåéèêíÖóòöúüćçñńßšŽž','AA­aaaaaaaeeeiOooouuccnnbsZz'\n",
        "  value = ''.join(char for char in value if char.isalnum()).replace('&amp', '')\n",
        "  trans = str.maketrans(a,b)\n",
        "  if value: value = value.translate(trans)\n",
        "\n",
        "  return value"
      ]
    },
    {
      "cell_type": "markdown",
      "source": [
        "#### Normalize date"
      ],
      "metadata": {
        "id": "TVQTACr_QpAV"
      }
    },
    {
      "cell_type": "code",
      "execution_count": null,
      "metadata": {
        "id": "Ad13XpHeeTWU"
      },
      "outputs": [],
      "source": [
        "def normalize_date(date):\n",
        "  return date.replace('-', '')"
      ]
    },
    {
      "cell_type": "markdown",
      "metadata": {
        "id": "aEYP9N-i0E2s"
      },
      "source": [
        "#### Add article literals to a graph"
      ]
    },
    {
      "cell_type": "code",
      "execution_count": null,
      "metadata": {
        "id": "xCmrPc9qzDg3"
      },
      "outputs": [],
      "source": [
        "def create_article_literals(article, graph):\n",
        "  graph.add((article_uri, rdf.type, bibo.Article))\n",
        "  graph.add((article_uri, dct.identifier, Literal(article['identifier'])))\n",
        "  graph.add((article_uri, dct.title, Literal(article['title'])))\n",
        "  graph.add((article_uri, bibo.doi, Literal(article['doi'])))\n",
        "  graph.add((article_uri, prism.url, Literal(article['url'], datatype=xsd.anyURI)))\n",
        "  graph.add((article_uri, prism.publicationName, Literal(article['publication_name'])))\n",
        "  graph.add((article_uri, vocab.openAccess, Literal(article['open_access'])))\n",
        "\n",
        "  if article['article_number']: graph.add((article_uri, vocab.articleNumber, Literal(article['article_number'])))\n",
        "  if article['created']: graph.add((article_uri, dct.created, Literal(article['created'], datatype=xsd.date)))\n",
        "  if article['deposited']: graph.add((article_uri, schema.datePublished, Literal(article['deposited'], datatype=xsd.date)))\n",
        "  if article['abstract']: graph.add((article_uri, bibo.abstract, Literal(article['abstract'])))\n",
        "  if article['issn']: graph.add((article_uri, bibo.issn, Literal(article['issn'])))\n",
        "  if article['volume']: graph.add((article_uri, bibo.volume, Literal(article['volume'])))\n",
        "  if article['score']: graph.add((article_uri, vocab.publicationScore, Literal(article['score'], datatype=xsd.int)))\n",
        "\n",
        "  return graph\n"
      ]
    },
    {
      "cell_type": "markdown",
      "source": [
        "#### Add article language relationship to a graph"
      ],
      "metadata": {
        "id": "ntjhzG3hQu_-"
      }
    },
    {
      "cell_type": "code",
      "execution_count": null,
      "metadata": {
        "id": "KLPbyBdM3ITZ"
      },
      "outputs": [],
      "source": [
        "def create_article_language_relationship(article_uri, language, graph):\n",
        "  language_uri = URIRef(data + 'language' + normalize_string(language['acronym'].upper()))\n",
        "  graph.add((language_uri, rdf.type, dbo.Language))\n",
        "  graph.add((language_uri, dbo.acronym, Literal(language['acronym'])))\n",
        "  graph.add((article_uri, dct.language, language_uri))\n",
        "  \n",
        "  return graph"
      ]
    },
    {
      "cell_type": "markdown",
      "source": [
        "#### Add article journal relationship to a graph"
      ],
      "metadata": {
        "id": "1U3BRMLtQ1FV"
      }
    },
    {
      "cell_type": "code",
      "execution_count": null,
      "metadata": {
        "id": "76RiL2p-7XhB"
      },
      "outputs": [],
      "source": [
        "def create_article_journal_relationship(article_uri, journal, graph):\n",
        "  journal_uri = URIRef(bibo + 'Journal/' + normalize_string(journal['name']))\n",
        "  graph.add((journal_uri, rdf.type, dbo.Organization))\n",
        "  graph.add((journal_uri, schema.name, Literal(journal['name'])))\n",
        "  graph.add((article_uri, schema.publication, journal_uri))\n",
        "\n",
        "  return graph"
      ]
    },
    {
      "cell_type": "markdown",
      "source": [
        "#### Add article citation relationship to a graph"
      ],
      "metadata": {
        "id": "WFtf559yQ8Nj"
      }
    },
    {
      "cell_type": "code",
      "execution_count": null,
      "metadata": {
        "id": "ofLzUjpzdho3"
      },
      "outputs": [],
      "source": [
        "def create_article_citation_relationship(article_uri, article_identifier, citations, graph):\n",
        "  for cite in citations:\n",
        "    citation_uri = URIRef(data + 'Citation' + article_identifier + normalize_string(cite['organization']['name'] + normalize_date(cite['date'])))\n",
        "    graph.add((citation_uri, rdf.type, data.Citation))\n",
        "    graph.add((citation_uri, vocab.extractionDate, Literal(cite['date'], datatype=xsd.date)))\n",
        "    graph.add((citation_uri, dbo.number, Literal(cite['number'], datatype=xsd.int)))\n",
        "    \n",
        "    graph, organization_uri = create_organization_triples(cite['organization'], graph)\n",
        "    graph.add((citation_uri, dct.source, organization_uri))\n",
        "    graph.add((article_uri, vocab.citedBy, citation_uri))\n",
        "  \n",
        "  return graph"
      ]
    },
    {
      "cell_type": "markdown",
      "source": [
        "#### Add organization city relationship to a graph"
      ],
      "metadata": {
        "id": "bI-Irio_Q-oc"
      }
    },
    {
      "cell_type": "code",
      "source": [
        "def create_organization_city_relationship(organization_uri, city, graph):\n",
        "  city_uri = URIRef(dbr + normalize_string(city['name']))\n",
        "  graph.add((city_uri, rdf.type, dbo.City))\n",
        "  graph.add((city_uri, foaf.name, Literal(city['name'])))\n",
        "  graph.add((organization_uri, dbo.city, city_uri))\n",
        "\n",
        "  return graph"
      ],
      "metadata": {
        "id": "rjWoAZd1QFVL"
      },
      "execution_count": null,
      "outputs": []
    },
    {
      "cell_type": "markdown",
      "source": [
        "#### Add organization country relationship to a graph"
      ],
      "metadata": {
        "id": "6BICeEJ7RBa0"
      }
    },
    {
      "cell_type": "code",
      "source": [
        "def create_organization_country_relationship(organization_uri, country, graph):\n",
        "  country_uri = URIRef(dbr + normalize_string(country['name']))\n",
        "  graph.add((country_uri, rdf.type, dbo.Country))\n",
        "  graph.add((country_uri, foaf.name, Literal(country['name'])))\n",
        "  graph.add((organization_uri, dbo.country, country_uri))\n",
        "\n",
        "  return graph"
      ],
      "metadata": {
        "id": "3b0AEasRQKnM"
      },
      "execution_count": null,
      "outputs": []
    },
    {
      "cell_type": "markdown",
      "source": [
        "#### Add article organization relationship to a graph"
      ],
      "metadata": {
        "id": "pte2MbdtRDRw"
      }
    },
    {
      "cell_type": "code",
      "source": [
        "def create_organization_triples(organization, graph):\n",
        "  organization_uri = URIRef(dbr + normalize_string(organization['name']))\n",
        "  graph.add((organization_uri, rdf.type, dbo.Organization))\n",
        "  graph.add((organization_uri, foaf.name, Literal(organization['name'])))\n",
        "  if 'description' in organization.keys(): graph.add((organization_uri, rdfs.comment, Literal(organization['description'])))\n",
        "  if organization['city']['name']: graph = create_organization_city_relationship(organization_uri, organization['city'], graph)\n",
        "  if organization['country']['name']: graph = create_organization_country_relationship(organization_uri, organization['country'], graph)\n",
        "\n",
        "  return graph, organization_uri"
      ],
      "metadata": {
        "id": "HiL6msTVuXV6"
      },
      "execution_count": null,
      "outputs": []
    },
    {
      "cell_type": "code",
      "source": [
        "def create_article_organization_relationship(article_uri, organizations, graph):\n",
        "  for organization in organizations:\n",
        "    graph, organization_uri = create_organization_triples(organization, graph)\n",
        "    graph.add((article_uri, schema.affiliation, organization_uri))\n",
        "  \n",
        "  return graph"
      ],
      "metadata": {
        "id": "lvQc1fFQQNyn"
      },
      "execution_count": null,
      "outputs": []
    },
    {
      "cell_type": "code",
      "source": [
        "def create_author_organization_relationship(author_uri, organizations, graph):\n",
        "  for organization in organizations:\n",
        "    graph, organization_uri = create_organization_triples(organization, graph)\n",
        "    graph.add((author_uri, schema.affiliation, organization_uri))\n",
        "  \n",
        "  return graph"
      ],
      "metadata": {
        "id": "sMaW8aII1bal"
      },
      "execution_count": null,
      "outputs": []
    },
    {
      "cell_type": "markdown",
      "source": [
        "#### Add article author relationship to a graph"
      ],
      "metadata": {
        "id": "wRWbkzWmRGS3"
      }
    },
    {
      "cell_type": "code",
      "source": [
        "def create_article_author_relationship(article_uri, authors, graph):\n",
        "  for author in authors:\n",
        "    author_uri = URIRef(data + normalize_string(author['given_name'] + author['family_name']))\n",
        "    graph.add((author_uri, rdf.type, foaf.Person))\n",
        "    graph.add((author_uri, foaf.givenName, Literal(author['given_name'])))\n",
        "    graph.add((author_uri, foaf.familyName, Literal(author['family_name'])))\n",
        "    if author['organization']: graph = create_author_organization_relationship(author_uri, author['organization'], graph)\n",
        "    graph.add((article_uri, dct.creator, author_uri))\n",
        "\n",
        "  return graph"
      ],
      "metadata": {
        "id": "1KoTloE3Py4K"
      },
      "execution_count": null,
      "outputs": []
    },
    {
      "cell_type": "markdown",
      "source": [
        "#### Add triples"
      ],
      "metadata": {
        "id": "SWA5_NmMRRFB"
      }
    },
    {
      "cell_type": "code",
      "source": [
        "len(articles)"
      ],
      "metadata": {
        "colab": {
          "base_uri": "https://localhost:8080/"
        },
        "id": "KxL5LAPq2qG3",
        "outputId": "d10a5aed-8056-48ae-ac40-7fc8d75fef97"
      },
      "execution_count": null,
      "outputs": [
        {
          "output_type": "execute_result",
          "data": {
            "text/plain": [
              "1028"
            ]
          },
          "metadata": {},
          "execution_count": 206
        }
      ]
    },
    {
      "cell_type": "code",
      "execution_count": null,
      "metadata": {
        "id": "z7wIkWjgVZN9"
      },
      "outputs": [],
      "source": [
        "graph = Graph()\n",
        "try:\n",
        "  for article in articles:\n",
        "    article_uri = URIRef(data + article['identifier'])\n",
        "    graph = create_article_literals(article, graph)\n",
        "\n",
        "    if article['language']: graph = create_article_language_relationship(article_uri, article['language'], graph)\n",
        "    if article['journal']: graph = create_article_journal_relationship(article_uri, article['journal'], graph)\n",
        "    if article['citations']: graph = create_article_citation_relationship(article_uri, article['identifier'], article['citations'], graph)\n",
        "    if article['author']: graph = create_article_author_relationship(article_uri, article['author'], graph)\n",
        "    if article['organization']: graph = create_article_organization_relationship(article_uri, article['organization'], graph)\n",
        "    if article['subject']:\n",
        "      for subject in article['subject']:\n",
        "        subject_uri = URIRef(data + normalize_string(subject['name']))\n",
        "        graph.add((subject_uri, rdf.type, skos.Concept))\n",
        "        graph.add((subject_uri, foaf.name, Literal(subject['name'])))\n",
        "        \n",
        "        graph.add((article_uri, dct.subject, subject_uri))\n",
        "except Exception as e:\n",
        "  print(e)"
      ]
    },
    {
      "cell_type": "markdown",
      "metadata": {
        "id": "g3gDg4xefFsS"
      },
      "source": [
        "## 4. Saving RDF"
      ]
    },
    {
      "cell_type": "code",
      "execution_count": null,
      "metadata": {
        "id": "3PAyOl4sfKtU",
        "colab": {
          "base_uri": "https://localhost:8080/"
        },
        "outputId": "67902423-d3a6-497a-daee-6da04ebb45d4"
      },
      "outputs": [
        {
          "output_type": "execute_result",
          "data": {
            "text/plain": [
              "<Graph identifier=Nbf19631a1d7540f6bd33824ac8018d2e (<class 'rdflib.graph.Graph'>)>"
            ]
          },
          "metadata": {},
          "execution_count": 208
        }
      ],
      "source": [
        "graph.serialize(destination='articles.ttl')"
      ]
    }
  ],
  "metadata": {
    "colab": {
      "name": "rdf-triplets.ipynb",
      "provenance": [],
      "collapsed_sections": [],
      "authorship_tag": "ABX9TyM/X/+W46fuV0TJIWHIKiTr",
      "include_colab_link": true
    },
    "kernelspec": {
      "display_name": "Python 3",
      "name": "python3"
    },
    "language_info": {
      "name": "python"
    }
  },
  "nbformat": 4,
  "nbformat_minor": 0
}